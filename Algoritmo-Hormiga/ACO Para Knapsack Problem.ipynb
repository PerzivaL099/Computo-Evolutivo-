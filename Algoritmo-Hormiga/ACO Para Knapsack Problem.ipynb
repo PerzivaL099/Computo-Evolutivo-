{
 "cells": [
  {
   "cell_type": "code",
   "execution_count": 1,
   "id": "d03c56e4-1cbd-4f3c-9dc9-bd1afd670165",
   "metadata": {},
   "outputs": [],
   "source": [
    "import random\n",
    "\n",
    "pesos = [70,73,77,80,82,87,90,94,98,106,110,113,115,118,120]\n",
    "ganancias = [135, 139, 149, 150, 156, 163, 173, 184, 192, 201, 210, 214, 221, 229, 240]\n",
    "CapacidadMochila = 750\n",
    "NumGen = 100 # numero de generaciones\n",
    "TamHormigas = 500 # Tamano de la colonia\n",
    "TasaEvaporacion = 0.5\n",
    "\n",
    "# --- Corregido ---\n",
    "# Nivel de feromona inicial (float para precision)\n",
    "Feromonas = [1.0] * len(pesos)\n",
    "# Trackea la mejor ganancia encontrada\n",
    "MejorSolucion = 0\n",
    "# Trackea QUÉ objetos componen la mejor solución\n",
    "MejorSolucionVector = [0] * len(pesos)"
   ]
  },
  {
   "cell_type": "code",
   "execution_count": null,
   "id": "05ff39ae-ee9e-4ae3-969c-97bf0ab22dfe",
   "metadata": {},
   "outputs": [],
   "source": [
    "**Algoritmo principal"
   ]
  },
  {
   "cell_type": "code",
   "execution_count": 3,
   "id": "e4457381-b211-41b1-be18-91bc5735aba4",
   "metadata": {},
   "outputs": [
    {
     "name": "stdout",
     "output_type": "stream",
     "text": [
      "Generaciones: \n",
      "99 / 100\n",
      "Proceso terminado en la generación 100.\n"
     ]
    }
   ],
   "source": [
    "print(\"Generaciones: \")\n",
    "\n",
    "# Lista para almacenar las ganancias de todas las soluciones encontradas en cada generacion\n",
    "all_gains = []\n",
    "\n",
    "for i in range(NumGen):\n",
    "    print(f\"{i} / {NumGen}\", end=\"\\r\")\n",
    "\n",
    "    # Almacenará los resultados de todas las hormigas en ESTA generacion\n",
    "    # Guardaremos tuplas: (ganancia_total, vector_solucion)\n",
    "    ColHormigas = []\n",
    "\n",
    "    for j in range(TamHormigas):\n",
    "        # --- Cada hormiga construye su propia solucion ---\n",
    "        ant_solution = [0] * len(pesos) # Mochila de esta hormiga (0=no, 1=si)\n",
    "        ant_weight = 0\n",
    "        ant_gain = 0\n",
    "\n",
    "        # Suma total de feromonas para calcular probabilidades\n",
    "        # (Se añade 1e-10 para evitar division por cero si todo se evapora)\n",
    "        total_feromonas = sum(Feromonas) + 1e-10\n",
    "\n",
    "        # Crear una lista de indices de objetos y barajarla para introducir aleatoriedad en el orden de seleccion\n",
    "        item_indices = list(range(len(pesos)))\n",
    "        random.shuffle(item_indices)\n",
    "\n",
    "        for k in item_indices: # Iterar sobre los indices barajados\n",
    "            # Probabilidad de elegir el objeto k\n",
    "            probabilidad = Feromonas[k] / total_feromonas\n",
    "\n",
    "            r = random.random()\n",
    "\n",
    "            # La hormiga decide tomar el objeto\n",
    "            if r < probabilidad:\n",
    "                # PERO, solo lo toma si cabe en la mochila\n",
    "                if ant_weight + pesos[k] <= CapacidadMochila:\n",
    "                    ant_solution[k] = 1 # Marcar como \"tomado\"\n",
    "                    ant_weight += pesos[k]\n",
    "                    ant_gain += ganancias[k]\n",
    "\n",
    "        # La hormiga terminó. Guardamos su resultado (ganancia y mochila)\n",
    "        ColHormigas.append( (ant_gain, ant_solution) )\n",
    "        # Agregar la ganancia de esta hormiga a la lista de todas las ganancias\n",
    "        all_gains.append(ant_gain)\n",
    "\n",
    "\n",
    "    # --- Fin del bucle de hormigas (j) ---\n",
    "    # Todas las hormigas de esta generacion han terminado\n",
    "\n",
    "    # Encontrar la mejor hormiga DE ESTA GENERACION\n",
    "    best_gen_ant = max(ColHormigas, key=lambda x: x[0])\n",
    "    best_gen_gain = best_gen_ant[0]\n",
    "    best_gen_vector = best_gen_ant[1]\n",
    "\n",
    "    # Actualizar la MEJOR SOLUCION GLOBAL si la de esta generacion es mejor\n",
    "    if best_gen_gain > MejorSolucion:\n",
    "        MejorSolucion = best_gen_gain\n",
    "        MejorSolucionVector = best_gen_vector.copy() # Importante copiar la lista\n",
    "\n",
    "    # --- Actualizacion de Feromonas ---\n",
    "\n",
    "    # 1. Evaporacion (para todos los objetos)\n",
    "    for k in range(len(Feromonas)):\n",
    "        Feromonas[k] *= (1 - TasaEvaporacion)\n",
    "\n",
    "    # 2. Deposito (solo en los objetos de la MEJOR solucion GLOBAL encontrada hasta ahora)\n",
    "    # Depositamos una cantidad proporcional a la ganancia de la MEJOR solucion GLOBAL\n",
    "    for k in range(len(pesos)):\n",
    "        if MejorSolucionVector[k] == 1:\n",
    "            Feromonas[k] += MejorSolucion # Reforzar caminos exitosos\n",
    "\n",
    "\n",
    "    # Condicion de parada (si encontramos la solucion optima conocida para este set)\n",
    "    if MejorSolucion >= 1458:\n",
    "        print(f\"\\n¡Solución óptima (1458) encontrada en la generación {i}!\")\n",
    "        break\n",
    "\n",
    "print(f\"\\nProceso terminado en la generación {i+1}.\")"
   ]
  },
  {
   "cell_type": "code",
   "execution_count": null,
   "id": "e4af68d3-f21a-4ea9-aa05-4e61d82ae7d4",
   "metadata": {},
   "outputs": [],
   "source": [
    "**Resultados"
   ]
  },
  {
   "cell_type": "code",
   "execution_count": 7,
   "id": "835312f3-e531-4b06-874f-676f200cedba",
   "metadata": {},
   "outputs": [
    {
     "name": "stdout",
     "output_type": "stream",
     "text": [
      "La mejor solución encontrada es: 844\n",
      "Peso de la solución: 435 (Capacidad Máx: 750)\n",
      "Vector de solución (1 = objeto seleccionado):\n",
      "[0, 0, 0, 0, 0, 0, 1, 0, 0, 0, 1, 0, 1, 0, 1]\n",
      "Índices de objetos seleccionados: [6, 10, 12, 14]\n",
      "\n",
      "Estadísticas de las soluciones encontradas:\n",
      "Peor solución (ganancia mínima): 0\n",
      "Solución promedio (ganancia media): 210.80\n",
      "Desviación estándar de las ganancias: 183.00\n"
     ]
    }
   ],
   "source": [
    "import numpy as np\n",
    "\n",
    "print(f\"La mejor solución encontrada es: {MejorSolucion}\")\n",
    "\n",
    "# Calcular el peso final de la mejor solucion\n",
    "peso_final = sum(p * v for p, v in zip(pesos, MejorSolucionVector))\n",
    "\n",
    "print(f\"Peso de la solución: {peso_final} (Capacidad Máx: {CapacidadMochila})\")\n",
    "print(f\"Vector de solución (1 = objeto seleccionado):\")\n",
    "print(MejorSolucionVector)\n",
    "\n",
    "items_seleccionados = [i for i, v in enumerate(MejorSolucionVector) if v == 1]\n",
    "print(f\"Índices de objetos seleccionados: {items_seleccionados}\")\n",
    "\n",
    "# Calcular y mostrar estadísticas adicionales\n",
    "if all_gains: # Asegurarse de que la lista no este vacia\n",
    "    print(\"\\nEstadísticas de las soluciones encontradas:\")\n",
    "    print(f\"Peor solución (ganancia mínima): {min(all_gains)}\")\n",
    "    print(f\"Solución promedio (ganancia media): {np.mean(all_gains):.2f}\")\n",
    "    print(f\"Desviación estándar de las ganancias: {np.std(all_gains):.2f}\")\n",
    "else:\n",
    "    print(\"\\nNo se generaron soluciones para calcular estadísticas.\")"
   ]
  },
  {
   "cell_type": "code",
   "execution_count": null,
   "id": "871a216a-2a6b-4c1f-a456-a75e3c3332c7",
   "metadata": {},
   "outputs": [],
   "source": [
    "# **Correciones Realizadas**\n",
    "\n",
    "**Los problemas principales eran:**\n",
    "\n",
    "  1. Manejo de listas: Estabas usando .append() en listas que ya tenían un tamaño fijo, lo que creaba listas cada vez más grandes y mezclaba ceros con los pesos/ganancias reales.\n",
    "\n",
    "  2. Actualización de la solución: Actualizabas MejorSolucion dentro del bucle más interno, comparando soluciones a medio construir.\n",
    "\n",
    "  3. Reparación: El intento de reparación (PesoHormigas[k] = 0) no funcionaba porque el objeto que querías quitar no estaba en el índice k.\n",
    "\n",
    "  4. Actualización de feromonas: Reforzabas todos los objetos en cada generación, en lugar de reforzar selectivamente solo los que estaban en las mejores soluciones."
   ]
  }
 ],
 "metadata": {
  "kernelspec": {
   "display_name": "Python 3 (ipykernel)",
   "language": "python",
   "name": "python3"
  },
  "language_info": {
   "codemirror_mode": {
    "name": "ipython",
    "version": 3
   },
   "file_extension": ".py",
   "mimetype": "text/x-python",
   "name": "python",
   "nbconvert_exporter": "python",
   "pygments_lexer": "ipython3",
   "version": "3.12.4"
  }
 },
 "nbformat": 4,
 "nbformat_minor": 5
}
